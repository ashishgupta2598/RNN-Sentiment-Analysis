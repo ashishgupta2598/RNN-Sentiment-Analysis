{
  "nbformat": 4,
  "nbformat_minor": 0,
  "metadata": {
    "colab": {
      "name": "SENTIMENET ANALYSIS.ipynb",
      "version": "0.3.2",
      "provenance": [],
      "collapsed_sections": []
    },
    "kernelspec": {
      "name": "python3",
      "display_name": "Python 3"
    },
    "accelerator": "GPU"
  },
  "cells": [
    {
      "cell_type": "code",
      "metadata": {
        "id": "OT-ONwehKyCV",
        "colab_type": "code",
        "colab": {}
      },
      "source": [
        "import numpy as np\n",
        "from tensorflow.keras.datasets import imdb\n",
        "from tensorflow.keras.preprocessing import sequence\n",
        "from tensorflow.keras import Sequential\n",
        "from tensorflow.keras.layers import Embedding, LSTM, Dense, Dropout\n"
      ],
      "execution_count": 0,
      "outputs": []
    },
    {
      "cell_type": "code",
      "metadata": {
        "id": "Ygwwyr_bki4H",
        "colab_type": "code",
        "colab": {
          "base_uri": "https://localhost:8080/",
          "height": 35
        },
        "outputId": "cdce5311-f5a8-48de-b1bb-5f7a5f166769"
      },
      "source": [
        "from keras import backend as K\n",
        "K.tensorflow_backend._get_available_gpus()\n",
        "sess = tf.Session(config=tf.ConfigProto(log_device_placement=True))\n",
        "sess"
      ],
      "execution_count": 94,
      "outputs": [
        {
          "output_type": "execute_result",
          "data": {
            "text/plain": [
              "<tensorflow.python.client.session.Session at 0x7efce9095400>"
            ]
          },
          "metadata": {
            "tags": []
          },
          "execution_count": 94
        }
      ]
    },
    {
      "cell_type": "code",
      "metadata": {
        "id": "SwIeGSKIMBMk",
        "colab_type": "code",
        "colab": {
          "base_uri": "https://localhost:8080/",
          "height": 35
        },
        "outputId": "9b66e951-05c0-4152-8b79-1d244c916684"
      },
      "source": [
        "vocab_size = 5000\n",
        "\n",
        "(X_train, y_train), (X_test, y_test) = imdb.load_data(num_words = vocab_size)\n",
        "print(\"Len traning and testing, \",len(X_train), len(X_test))"
      ],
      "execution_count": 128,
      "outputs": [
        {
          "output_type": "stream",
          "text": [
            "Len traning and testing,  25000 25000\n"
          ],
          "name": "stdout"
        }
      ]
    },
    {
      "cell_type": "code",
      "metadata": {
        "id": "z7VLOyWXMImf",
        "colab_type": "code",
        "colab": {
          "base_uri": "https://localhost:8080/",
          "height": 111
        },
        "outputId": "938cdf8f-92fe-4b1a-9c85-61607164f0c3"
      },
      "source": [
        "word2id = imdb.get_word_index()\n",
        "id2word = {i: word for word, i in word2id.items()}\n",
        "\n",
        "\n",
        "print('review with words')\n",
        "print([id2word.get(i, ' ') for i in X_train[2]])\n",
        "print('Label AS')\n",
        "print(y_train[6])"
      ],
      "execution_count": 139,
      "outputs": [
        {
          "output_type": "stream",
          "text": [
            "review with words\n",
            "['cause', \"it's\", 'stick', 'passing', 'first', 'were', 'enjoys', 'for', 'from', 'look', 'seven', 'sense', 'from', 'me', 'and', 'die', 'in', 'character', 'as', 'and', 'issues', 'but', 'is', 'you', 'that', \"isn't\", 'one', 'song', 'just', 'is', 'him', 'less', 'are', 'strongly', 'not', 'are', 'you', 'that', 'different', 'just', 'even', 'by', 'this', 'of', 'you', 'there', 'is', 'eight', 'when', 'it', 'part', 'are', \"film's\", 'love', \"film's\", \"80's\", 'was', 'big', 'also', 'light', \"don't\", 'and', 'as', 'it', 'in', 'character', 'looked', 'cinematography', 'so', 'stories', 'is', 'far', 'br', 'man', 'acting']\n",
            "Label AS\n",
            "1\n"
          ],
          "name": "stdout"
        }
      ]
    },
    {
      "cell_type": "code",
      "metadata": {
        "id": "dQLrNWagsNwV",
        "colab_type": "code",
        "colab": {}
      },
      "source": [
        ""
      ],
      "execution_count": 0,
      "outputs": []
    },
    {
      "cell_type": "code",
      "metadata": {
        "id": "Pd8xESE0MVXw",
        "colab_type": "code",
        "colab": {
          "base_uri": "https://localhost:8080/",
          "height": 35
        },
        "outputId": "cf12ea88-9cf8-485d-ebd2-f13ccaa2d60e"
      },
      "source": [
        "\"\"\"print(\"maximum review length \",len(max(X_train + X_test)))\n",
        "\n",
        "print(\"minimum review length \",len(min(X_train + X_test)))\"\"\""
      ],
      "execution_count": 45,
      "outputs": [
        {
          "output_type": "execute_result",
          "data": {
            "text/plain": [
              "'print(\"maximum review length \",len(max(X_train + X_test)))\\n\\nprint(\"minimum review length \",len(min(X_train + X_test)))'"
            ]
          },
          "metadata": {
            "tags": []
          },
          "execution_count": 45
        }
      ]
    },
    {
      "cell_type": "code",
      "metadata": {
        "id": "jnFeFpKAMWE9",
        "colab_type": "code",
        "colab": {}
      },
      "source": [
        "\n",
        "\n",
        "max_words = 75\n",
        "X_train = sequence.pad_sequences(X_train, maxlen=max_words)\n",
        "X_test = sequence.pad_sequences(X_test, maxlen=max_words)"
      ],
      "execution_count": 0,
      "outputs": []
    },
    {
      "cell_type": "code",
      "metadata": {
        "id": "7PycO5RVkUdO",
        "colab_type": "code",
        "colab": {
          "base_uri": "https://localhost:8080/",
          "height": 35
        },
        "outputId": "f398c594-3b97-4c39-d59e-481e610c1324"
      },
      "source": [
        ""
      ],
      "execution_count": 92,
      "outputs": [
        {
          "output_type": "execute_result",
          "data": {
            "text/plain": [
              "<tensorflow.python.client.session.Session at 0x7efcebc782b0>"
            ]
          },
          "metadata": {
            "tags": []
          },
          "execution_count": 92
        }
      ]
    },
    {
      "cell_type": "code",
      "metadata": {
        "id": "XMYVeUZZNWxF",
        "colab_type": "code",
        "colab": {
          "base_uri": "https://localhost:8080/",
          "height": 294
        },
        "outputId": "20b88f6b-a780-4310-cf80-cc9520462a4b"
      },
      "source": [
        "\n",
        "embedding_size=32\n",
        "model=Sequential()\n",
        "model.add(Embedding(vocab_size, embedding_size, input_length=max_words))\n",
        "model.add(LSTM(100))\n",
        "model.add(Dense(1, activation='sigmoid'))\n",
        "\n",
        "print(model.summary())"
      ],
      "execution_count": 132,
      "outputs": [
        {
          "output_type": "stream",
          "text": [
            "Model: \"sequential_2\"\n",
            "_________________________________________________________________\n",
            "Layer (type)                 Output Shape              Param #   \n",
            "=================================================================\n",
            "embedding_2 (Embedding)      (None, 75, 32)            160000    \n",
            "_________________________________________________________________\n",
            "lstm_2 (LSTM)                (None, 100)               53200     \n",
            "_________________________________________________________________\n",
            "dense_2 (Dense)              (None, 1)                 101       \n",
            "=================================================================\n",
            "Total params: 213,301\n",
            "Trainable params: 213,301\n",
            "Non-trainable params: 0\n",
            "_________________________________________________________________\n",
            "None\n"
          ],
          "name": "stdout"
        }
      ]
    },
    {
      "cell_type": "code",
      "metadata": {
        "id": "u-clMxnkOBRN",
        "colab_type": "code",
        "colab": {
          "base_uri": "https://localhost:8080/",
          "height": 608
        },
        "outputId": "6f38fe90-83db-42f2-ff33-fbc46f4ecec0"
      },
      "source": [
        "model.compile(loss='binary_crossentropy', \n",
        "             optimizer='adam', \n",
        "             metrics=['accuracy'])\n",
        "batch_size = 64\n",
        "num_eps = 15\n",
        "\n",
        "X_valid, y_valid = X_train[:batch_size], y_train[:batch_size]\n",
        "X_train2, y_train2 = X_train[batch_size:], y_train[batch_size:]\n",
        "\n",
        "model.fit(X_train2, y_train2, validation_data=(X_valid, y_valid), batch_size=batch_size, epochs=num_eps)"
      ],
      "execution_count": 158,
      "outputs": [
        {
          "output_type": "stream",
          "text": [
            "Train on 24936 samples, validate on 64 samples\n",
            "Epoch 1/15\n",
            "24936/24936 [==============================] - 49s 2ms/sample - loss: 0.2440 - acc: 0.9028 - val_loss: 0.3133 - val_acc: 0.8750\n",
            "Epoch 2/15\n",
            "24936/24936 [==============================] - 48s 2ms/sample - loss: 0.2139 - acc: 0.9163 - val_loss: 0.3417 - val_acc: 0.8594\n",
            "Epoch 3/15\n",
            "24936/24936 [==============================] - 47s 2ms/sample - loss: 0.1836 - acc: 0.9293 - val_loss: 0.3087 - val_acc: 0.8750\n",
            "Epoch 4/15\n",
            "24936/24936 [==============================] - 47s 2ms/sample - loss: 0.1571 - acc: 0.9402 - val_loss: 0.4043 - val_acc: 0.8594\n",
            "Epoch 5/15\n",
            "24936/24936 [==============================] - 47s 2ms/sample - loss: 0.1342 - acc: 0.9516 - val_loss: 0.2955 - val_acc: 0.9062\n",
            "Epoch 6/15\n",
            "24936/24936 [==============================] - 46s 2ms/sample - loss: 0.1116 - acc: 0.9593 - val_loss: 0.3892 - val_acc: 0.8281\n",
            "Epoch 7/15\n",
            "24936/24936 [==============================] - 46s 2ms/sample - loss: 0.0972 - acc: 0.9649 - val_loss: 0.3226 - val_acc: 0.9062\n",
            "Epoch 8/15\n",
            "24936/24936 [==============================] - 47s 2ms/sample - loss: 0.0807 - acc: 0.9723 - val_loss: 0.3955 - val_acc: 0.8750\n",
            "Epoch 9/15\n",
            "24936/24936 [==============================] - 47s 2ms/sample - loss: 0.0700 - acc: 0.9771 - val_loss: 0.4910 - val_acc: 0.8594\n",
            "Epoch 10/15\n",
            "24936/24936 [==============================] - 46s 2ms/sample - loss: 0.0698 - acc: 0.9754 - val_loss: 0.7274 - val_acc: 0.8125\n",
            "Epoch 11/15\n",
            "24936/24936 [==============================] - 46s 2ms/sample - loss: 0.0615 - acc: 0.9794 - val_loss: 0.5294 - val_acc: 0.7969\n",
            "Epoch 12/15\n",
            "24936/24936 [==============================] - 46s 2ms/sample - loss: 0.0469 - acc: 0.9849 - val_loss: 0.7111 - val_acc: 0.8281\n",
            "Epoch 13/15\n",
            "24936/24936 [==============================] - 46s 2ms/sample - loss: 0.0494 - acc: 0.9842 - val_loss: 0.7332 - val_acc: 0.8125\n",
            "Epoch 14/15\n",
            "24936/24936 [==============================] - 47s 2ms/sample - loss: 0.0427 - acc: 0.9860 - val_loss: 0.7558 - val_acc: 0.8281\n",
            "Epoch 15/15\n",
            "24936/24936 [==============================] - 47s 2ms/sample - loss: 0.0359 - acc: 0.9883 - val_loss: 0.6535 - val_acc: 0.8438\n"
          ],
          "name": "stdout"
        },
        {
          "output_type": "execute_result",
          "data": {
            "text/plain": [
              "<tensorflow.python.keras.callbacks.History at 0x7efc5614b320>"
            ]
          },
          "metadata": {
            "tags": []
          },
          "execution_count": 158
        }
      ]
    },
    {
      "cell_type": "code",
      "metadata": {
        "id": "cBUzwplMOGus",
        "colab_type": "code",
        "colab": {
          "base_uri": "https://localhost:8080/",
          "height": 35
        },
        "outputId": "fe6ebc89-f4bd-44d6-8d62-ef664d39a0b3"
      },
      "source": [
        "scores = model.evaluate(X_test, y_test, verbose=0)\n",
        "print(\"Test accuracy \" , scores[1])"
      ],
      "execution_count": 159,
      "outputs": [
        {
          "output_type": "stream",
          "text": [
            "Test accuracy  0.7974\n"
          ],
          "name": "stdout"
        }
      ]
    },
    {
      "cell_type": "code",
      "metadata": {
        "id": "2cbcFMXfOU5z",
        "colab_type": "code",
        "colab": {}
      },
      "source": [
        "#Testing\n",
        "def test(str):\n",
        "    st=str.lower().split()\n",
        "    list1=[]\n",
        "    for word in st:\n",
        "      if word.isalpha():\n",
        "        list1.append((word2id[word]))\n",
        "    \n",
        "    if len(list1)>75:\n",
        "      list1=list1[:75]\n",
        "\n",
        "    list2=[]\n",
        "    for i in range(75-len(list1)):\n",
        "      list2.append(0)\n",
        "    for i in list1 : \n",
        "        list2.append(i)\n",
        "    \n",
        "    return list2\n",
        "\n",
        "def predict(data):  \n",
        "    data=np.asarray(data)\n",
        "    data=data.reshape(1,75)\n",
        "    ynew = model.predict_classes(data)\n",
        "    if ynew==0:\n",
        "      print(\"Its a bad review\")\n",
        "    else:\n",
        "      print(\"Its good\")  \n",
        "    return ynew#returning ynew just for checking  "
      ],
      "execution_count": 0,
      "outputs": []
    },
    {
      "cell_type": "code",
      "metadata": {
        "id": "LKs_GqXiuHHn",
        "colab_type": "code",
        "colab": {}
      },
      "source": [
        "ynew = model.predict_classes(X_train[7].reshape(1,75))"
      ],
      "execution_count": 0,
      "outputs": []
    },
    {
      "cell_type": "code",
      "metadata": {
        "id": "zBNUecuTLvEz",
        "colab_type": "code",
        "colab": {
          "base_uri": "https://localhost:8080/",
          "height": 376
        },
        "outputId": "10dc3642-182a-42d0-ecde-10ae28546aee"
      },
      "source": [
        "str=\"the movie is quiet awesome and its fantastic to have it\"\n",
        "str=\"Is this a better way to handle a movie . What a rubbish\"\n",
        "str=\"What a garbage movie it was. Its like a clearly excited 7- or 8-year-old kid sitting in front of me busted out crying and had to be whisked out of the theater by his father within the first five minutes .\"\n",
        "word2id = imdb.get_word_index()\n",
        "\n",
        "l1=test(str)\n",
        "predict(l1)\n",
        "\n"
      ],
      "execution_count": 140,
      "outputs": [
        {
          "output_type": "error",
          "ename": "AttributeError",
          "evalue": "ignored",
          "traceback": [
            "\u001b[0;31m---------------------------------------------------------------------------\u001b[0m",
            "\u001b[0;31mAttributeError\u001b[0m                            Traceback (most recent call last)",
            "\u001b[0;32m<ipython-input-140-f5ca2f13e749>\u001b[0m in \u001b[0;36m<module>\u001b[0;34m()\u001b[0m\n\u001b[1;32m      4\u001b[0m \u001b[0mword2id\u001b[0m \u001b[0;34m=\u001b[0m \u001b[0mimdb\u001b[0m\u001b[0;34m.\u001b[0m\u001b[0mget_word_index\u001b[0m\u001b[0;34m(\u001b[0m\u001b[0;34m)\u001b[0m\u001b[0;34m\u001b[0m\u001b[0;34m\u001b[0m\u001b[0m\n\u001b[1;32m      5\u001b[0m \u001b[0;34m\u001b[0m\u001b[0m\n\u001b[0;32m----> 6\u001b[0;31m \u001b[0ml1\u001b[0m\u001b[0;34m=\u001b[0m\u001b[0mtest\u001b[0m\u001b[0;34m(\u001b[0m\u001b[0mX_train\u001b[0m\u001b[0;34m[\u001b[0m\u001b[0;36m2\u001b[0m\u001b[0;34m]\u001b[0m\u001b[0;34m)\u001b[0m\u001b[0;34m\u001b[0m\u001b[0;34m\u001b[0m\u001b[0m\n\u001b[0m\u001b[1;32m      7\u001b[0m \u001b[0mpredict\u001b[0m\u001b[0;34m(\u001b[0m\u001b[0ml1\u001b[0m\u001b[0;34m)\u001b[0m\u001b[0;34m\u001b[0m\u001b[0;34m\u001b[0m\u001b[0m\n\u001b[1;32m      8\u001b[0m \u001b[0;34m\u001b[0m\u001b[0m\n",
            "\u001b[0;32m<ipython-input-135-6752f090877f>\u001b[0m in \u001b[0;36mtest\u001b[0;34m(str)\u001b[0m\n\u001b[1;32m      1\u001b[0m \u001b[0;32mdef\u001b[0m \u001b[0mtest\u001b[0m\u001b[0;34m(\u001b[0m\u001b[0mstr\u001b[0m\u001b[0;34m)\u001b[0m\u001b[0;34m:\u001b[0m\u001b[0;34m\u001b[0m\u001b[0;34m\u001b[0m\u001b[0m\n\u001b[0;32m----> 2\u001b[0;31m     \u001b[0mst\u001b[0m\u001b[0;34m=\u001b[0m\u001b[0mstr\u001b[0m\u001b[0;34m.\u001b[0m\u001b[0mlower\u001b[0m\u001b[0;34m(\u001b[0m\u001b[0;34m)\u001b[0m\u001b[0;34m.\u001b[0m\u001b[0msplit\u001b[0m\u001b[0;34m(\u001b[0m\u001b[0;34m)\u001b[0m\u001b[0;34m\u001b[0m\u001b[0;34m\u001b[0m\u001b[0m\n\u001b[0m\u001b[1;32m      3\u001b[0m     \u001b[0mlist1\u001b[0m\u001b[0;34m=\u001b[0m\u001b[0;34m[\u001b[0m\u001b[0;34m]\u001b[0m\u001b[0;34m\u001b[0m\u001b[0;34m\u001b[0m\u001b[0m\n\u001b[1;32m      4\u001b[0m     \u001b[0;32mfor\u001b[0m \u001b[0mword\u001b[0m \u001b[0;32min\u001b[0m \u001b[0mst\u001b[0m\u001b[0;34m:\u001b[0m\u001b[0;34m\u001b[0m\u001b[0;34m\u001b[0m\u001b[0m\n\u001b[1;32m      5\u001b[0m       \u001b[0;32mif\u001b[0m \u001b[0mword\u001b[0m\u001b[0;34m.\u001b[0m\u001b[0misalpha\u001b[0m\u001b[0;34m(\u001b[0m\u001b[0;34m)\u001b[0m\u001b[0;34m:\u001b[0m\u001b[0;34m\u001b[0m\u001b[0;34m\u001b[0m\u001b[0m\n",
            "\u001b[0;31mAttributeError\u001b[0m: 'numpy.ndarray' object has no attribute 'lower'"
          ]
        }
      ]
    },
    {
      "cell_type": "code",
      "metadata": {
        "id": "XJKGhAcRL9V-",
        "colab_type": "code",
        "colab": {
          "base_uri": "https://localhost:8080/",
          "height": 866
        },
        "outputId": "6cedeb5c-1179-4be8-f1f3-0bf23a67f46b"
      },
      "source": [
        "X_test[2]\n",
        "  \n",
        "  \n",
        "  "
      ],
      "execution_count": 101,
      "outputs": [
        {
          "output_type": "execute_result",
          "data": {
            "text/plain": [
              "array([  33,    6,   58,   54, 1270,  431,  748,    7,   32, 2580,   16,\n",
              "         11,   94,    2,   10,   10,    4,  993,    2,    7,    4, 1766,\n",
              "       2634, 2164,    2,    8,  847,    8, 1450,  121,   31,    7,   27,\n",
              "         86, 2663,    2,   16,    6,  465,  993, 2006,    2,  573,   17,\n",
              "          2,   42,    4,    2,   37,  473,    6,  711,    6,    2,    7,\n",
              "        328,  212,   70,   30,  258,   11,  220,   32,    7,  108,   21,\n",
              "        133,   12,    9,   55,  465,  849, 3711,   53,   33, 2071, 1969,\n",
              "         37,   70, 1144,    4,    2, 1409,   74,  476,   37,   62,   91,\n",
              "       1329,  169,    4, 1330,    2,  146,  655, 2212,    5,  258,   12,\n",
              "        184,    2,  546,    5,  849,    2,    7,    4,   22, 1436,   18,\n",
              "        631, 1386,  797,    7,    4,    2,   71,  348,  425, 4320, 1061,\n",
              "         19,    2,    5,    2,   11,  661,    8,  339,    2,    4, 2455,\n",
              "          2,    7,    4, 1962,   10,   10,  263,  787,    9,  270,   11,\n",
              "          6,    2,    4,    2,    2,  121,    4,    2,   26, 4434,   19,\n",
              "         68, 1372,    5,   28,  446,    6,  318,    2,    8,   67,   51,\n",
              "         36,   70,   81,    8, 4392, 2294,   36, 1197,    8,    2,    2,\n",
              "         18,    6,  711,    4,    2,   26,    2, 1125,   11,   14,  636,\n",
              "        720,   12,  426,   28,   77,  776,    8,   97,   38,  111,    2,\n",
              "          2,  168, 1239,    2,  137,    2,   18,   27,  173,    9, 2399,\n",
              "         17,    6,    2,  428,    2,  232,   11,    4,    2,   37,  272,\n",
              "         40, 2708,  247,   30,  656,    6,    2,   54,    2, 3292,   98,\n",
              "          6, 2840,   40,  558,   37,    2,   98,    4,    2, 1197,   15,\n",
              "         14,    9,   57, 4893,    5, 4659,    6,  275,  711,    2,    2,\n",
              "       3292,   98,    6,    2,   10,   10,    2,   19,   14,    2,  267,\n",
              "        162,  711,   37,    2,  752,   98,    4,    2, 2378,   90,   19,\n",
              "          6,    2,    7,    2, 1810,    2,    4, 4770, 3183,  930,    8,\n",
              "        508,   90,    4, 1317,    8,    4,    2,   17,    2, 3965, 1853,\n",
              "          4, 1494,    8, 4468,  189,    4,    2,    2,    2,    4, 4770,\n",
              "          5,   95,  271,   23,    6,    2,    2,    2,    2,   33, 1526,\n",
              "          6,  425, 3155,    2, 4535, 1636,    7,    4, 4669,    2,  469,\n",
              "          4, 4552,   54,    4,  150,    2,    2,  280,   53,    2,    2,\n",
              "         18,  339,   29, 1978,   27,    2,    5,    2,   68, 1830,   19,\n",
              "          2,    2,    4, 1515,    7,  263,   65, 2132,   34,    6,    2,\n",
              "          2,   43,  159,   29,    9, 4706,    9,  387,   73,  195,  584,\n",
              "         10,   10, 1069,    4,   58,  810,   54,   14,    2,  117,   22,\n",
              "         16,   93,    5, 1069,    4,  192,   15,   12,   16,   93,   34,\n",
              "          6, 1766,    2,   33,    4,    2,    7,   15,    2,    2, 3286,\n",
              "        325,   12,   62,   30,  776,    8,   67,   14,   17,    6,    2,\n",
              "         44,  148,  687,    2,  203,   42,  203,   24,   28,   69,    2,\n",
              "          2,   11,  330,   54,   29,   93,    2,   21,  845,    2,   27,\n",
              "       1099,    7,  819,    4,   22, 1407,   17,    6,    2,  787,    7,\n",
              "       2460,    2,    2,  100,   30,    4, 3737, 3617, 3169, 2321,   42,\n",
              "       1898,   11,    4, 3814,   42,  101,  704,    7,  101,  999,   15,\n",
              "       1625,   94, 2926,  180,    5,    9,    2,   34,    2,   45,    6,\n",
              "       1429,   22,   60,    6, 1220,   31,   11,   94,    2,   96,   21,\n",
              "         94,  749,    9,   57,  975], dtype=int32)"
            ]
          },
          "metadata": {
            "tags": []
          },
          "execution_count": 101
        }
      ]
    },
    {
      "cell_type": "code",
      "metadata": {
        "id": "OZGRHSvkhBKE",
        "colab_type": "code",
        "colab": {}
      },
      "source": [
        ""
      ],
      "execution_count": 0,
      "outputs": []
    }
  ]
}